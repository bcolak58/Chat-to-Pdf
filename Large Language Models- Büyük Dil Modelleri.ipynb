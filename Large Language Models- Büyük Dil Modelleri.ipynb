{
 "cells": [
  {
   "cell_type": "markdown",
   "id": "f1dc0665",
   "metadata": {},
   "source": [
    "# This project is a code work that allows chatting with the text in the pdf file. It is integrated with artificial intelligence."
   ]
  },
  {
   "cell_type": "markdown",
   "id": "97b59f15",
   "metadata": {},
   "source": [
    "<img src=\"Wavy_Edu-01_Single-06.jpg\" alt=\"pdf chat\" style=\"width:200px;height:200px;\">"
   ]
  },
  {
   "cell_type": "code",
   "execution_count": 7,
   "id": "6240c828",
   "metadata": {},
   "outputs": [],
   "source": [
    "#Required packages\n",
    "#!pip install openai\n",
    "#!pip install PyPDF2\n",
    "#!pip install tiktoken\n",
    "#!pip install faiss-cpu\n",
    "#!pip install langchain"
   ]
  },
  {
   "cell_type": "code",
   "execution_count": 8,
   "id": "efb6cf4f",
   "metadata": {},
   "outputs": [],
   "source": [
    "from PyPDF2 import PdfReader\n",
    "from langchain.text_splitter import CharacterTextSplitter\n",
    "from langchain.embeddings.openai import OpenAIEmbeddings\n",
    "from langchain import FAISS\n",
    "from langchain.chains.question_answering import load_qa_chain\n",
    "from langchain.llms import OpenAI\n",
    "from langchain.callbacks import get_openai_callback\n",
    "import os\n",
    "import openai\n",
    "os.environ[\"OPENAI_API_KEY\"] =\"xxxx\""
   ]
  },
  {
   "cell_type": "code",
   "execution_count": 9,
   "id": "30a716aa",
   "metadata": {},
   "outputs": [],
   "source": [
    "def process_text(text):\n",
    "    # Split the text into chunks using langchain\n",
    "    text_splitter = CharacterTextSplitter(\n",
    "        separator=\"\\n\",\n",
    "        chunk_size=1000,\n",
    "        chunk_overlap=200,\n",
    "        length_function=len\n",
    "    )\n",
    "    chunks = text_splitter.split_text(text)\n",
    "\n",
    "    # Convert the chunks of text into embeddings to form a knowledge base\n",
    "    embeddings = OpenAIEmbeddings()\n",
    "    knowledgeBase = FAISS.from_texts(chunks, embeddings)\n",
    "\n",
    "    return knowledgeBase"
   ]
  },
  {
   "cell_type": "code",
   "execution_count": 10,
   "id": "e1a993db",
   "metadata": {},
   "outputs": [],
   "source": [
    "pdf_reader = PdfReader('Bilgi ve Iletisim Güvenligi Rehberi.pdf')"
   ]
  },
  {
   "cell_type": "code",
   "execution_count": 11,
   "id": "ed326a51",
   "metadata": {},
   "outputs": [],
   "source": [
    "text = \"\"\n",
    "for page in pdf_reader.pages:\n",
    "    text += page.extract_text()\n",
    "\n",
    "# Create the knowledge base object\n",
    "knowledgeBase = process_text(text)"
   ]
  },
  {
   "cell_type": "code",
   "execution_count": 12,
   "id": "fd504ef4",
   "metadata": {},
   "outputs": [],
   "source": [
    "def soru(query):\n",
    "    docs = knowledgeBase.similarity_search(query)\n",
    "    llm = OpenAI()\n",
    "    chain = load_qa_chain(llm, chain_type='stuff')\n",
    "    with get_openai_callback() as cost:\n",
    "        response = chain.run(input_documents=docs, question=query)\n",
    "    print(response)"
   ]
  },
  {
   "cell_type": "code",
   "execution_count": 13,
   "id": "e2b731ca",
   "metadata": {},
   "outputs": [
    {
     "name": "stdout",
     "output_type": "stream",
     "text": [
      " No, this study does not contain extraction experiments. It contains descriptions of security measures and audit methods to be used to prevent vulnerabilities related to command injection attacks in database access.\n"
     ]
    }
   ],
   "source": [
    "soru('Does this study contain extraction experiments?')"
   ]
  },
  {
   "cell_type": "code",
   "execution_count": 14,
   "id": "a3e9b5e1",
   "metadata": {},
   "outputs": [
    {
     "name": "stdout",
     "output_type": "stream",
     "text": [
      " Bu makale, 2019/12 Sayılı Cumhurbaşkanlığı Genelgesi'nde yer alan 21 adet tedbirin Bilgi ve İletişim Güvenliği Rehberi başlıklarıyla eşleşmesini açıklar.\n"
     ]
    }
   ],
   "source": [
    "soru('Bu makale ne hakkında?')"
   ]
  },
  {
   "cell_type": "code",
   "execution_count": 15,
   "id": "949e3d0b",
   "metadata": {},
   "outputs": [
    {
     "name": "stdout",
     "output_type": "stream",
     "text": [
      " Hiçbiri yanlış değil.\n"
     ]
    }
   ],
   "source": [
    "soru('Siber güvenlik tedbirlerinden hangisi yanlıştır. l7 koruma , ddos , güvenlik duvarı , home security?')"
   ]
  },
  {
   "cell_type": "code",
   "execution_count": null,
   "id": "f9ec2bdf",
   "metadata": {},
   "outputs": [],
   "source": []
  }
 ],
 "metadata": {
  "kernelspec": {
   "display_name": "Python 3 (ipykernel)",
   "language": "python",
   "name": "python3"
  },
  "language_info": {
   "codemirror_mode": {
    "name": "ipython",
    "version": 3
   },
   "file_extension": ".py",
   "mimetype": "text/x-python",
   "name": "python",
   "nbconvert_exporter": "python",
   "pygments_lexer": "ipython3",
   "version": "3.11.4"
  }
 },
 "nbformat": 4,
 "nbformat_minor": 5
}
